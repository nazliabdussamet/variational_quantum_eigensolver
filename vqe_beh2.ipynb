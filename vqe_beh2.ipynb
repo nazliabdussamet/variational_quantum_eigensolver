{
 "cells": [
  {
   "cell_type": "code",
   "execution_count": 16,
   "id": "8221be7c-9aaf-425e-a256-d65ad06b6b47",
   "metadata": {},
   "outputs": [],
   "source": [
    "from qiskit_nature.second_q.drivers import Psi4Driver\n",
    "from qiskit_nature.second_q.mappers import ParityMapper\n",
    "from qiskit_nature.second_q.circuit.library import HartreeFock, UCCSD\n",
    "from qiskit_algorithms.minimum_eigensolvers import VQE\n",
    "from qiskit_algorithms.optimizers import L_BFGS_B\n",
    "from qiskit.primitives import Estimator\n",
    "import matplotlib.pyplot as plt\n",
    "import numpy as np\n",
    "import matplotlib\n",
    "from qiskit_nature.second_q.algorithms import GroundStateEigensolver\n",
    "from qiskit_nature.second_q.transformers import ActiveSpaceTransformer\n",
    "import time"
   ]
  },
  {
   "cell_type": "markdown",
   "id": "dfda284c-0abc-4e60-b0fe-3b48ee28d9ae",
   "metadata": {},
   "source": [
    "Creating molecular configuration in Psi4Driver format. This configuration represents the positions of molecules' nucleus."
   ]
  },
  {
   "cell_type": "code",
   "execution_count": 17,
   "id": "c211c128-efc6-44c2-b77b-b6af00fed34f",
   "metadata": {},
   "outputs": [],
   "source": [
    "molecule_config = \"\"\"\n",
    "molecule beh2 {\n",
    "  0 1\n",
    "  Be 0.0 0.0 0.0\n",
    "  H 0.0 0.0 1.32\n",
    "  H 0.0 0.0 -1.32\n",
    "}\n",
    "\n",
    "set basis sto-3g\n",
    "\"\"\""
   ]
  },
  {
   "cell_type": "markdown",
   "id": "72d1dd63-fcd8-424d-bb75-da70c8984233",
   "metadata": {},
   "source": [
    "Creating instance of driver and problem from qiskit Nature library."
   ]
  },
  {
   "cell_type": "code",
   "execution_count": 31,
   "id": "21926752-c60b-4b05-9db0-679137253097",
   "metadata": {},
   "outputs": [],
   "source": [
    "driver = Psi4Driver(config=molecule_config)\n",
    "problem = driver.run()"
   ]
  },
  {
   "cell_type": "markdown",
   "id": "7abb714e-1020-46a7-9651-3bcbe24ff6b5",
   "metadata": {},
   "source": [
    "As seen in the output, increasing number of electrons in the system results with complex ansatz."
   ]
  },
  {
   "cell_type": "code",
   "execution_count": 35,
   "id": "4f0fe888-bd56-4252-981e-1abc3e738162",
   "metadata": {},
   "outputs": [
    {
     "name": "stdout",
     "output_type": "stream",
     "text": [
      "     »\n",
      "q_0: »\n",
      "     »\n",
      "q_1: »\n",
      "     »\n",
      "q_2: »\n",
      "     »\n",
      "q_3: »\n",
      "     »\n",
      "q_4: »\n",
      "     »\n",
      "q_5: »\n",
      "     »\n",
      "q_6: »\n",
      "     »\n",
      "q_7: »\n",
      "     »\n",
      "«     ┌──────────────────────────────────────────────────────────────────────────────────────────────┐\n",
      "«q_0: ┤0                                                                                             ├\n",
      "«     │                                                                                              │\n",
      "«q_1: ┤1                                                                                             ├\n",
      "«     │                                                                                              │\n",
      "«q_2: ┤2                                                                                             ├\n",
      "«     │                                                                                              │\n",
      "«q_3: ┤3                                                                                             ├\n",
      "«     │  EvolvedOps(t[0],t[1],t[2],t[3],t[4],t[5],t[6],t[7],t[8],t[9],t[10],t[11],t[12],t[13],t[14]) │\n",
      "«q_4: ┤4                                                                                             ├\n",
      "«     │                                                                                              │\n",
      "«q_5: ┤5                                                                                             ├\n",
      "«     │                                                                                              │\n",
      "«q_6: ┤6                                                                                             ├\n",
      "«     │                                                                                              │\n",
      "«q_7: ┤7                                                                                             ├\n",
      "«     └──────────────────────────────────────────────────────────────────────────────────────────────┘\n"
     ]
    }
   ],
   "source": [
    "mapper = ParityMapper()\n",
    "ansatz = UCCSD(\n",
    "    num_spatial_orbitals,\n",
    "    num_electrons,\n",
    "    mapper,\n",
    "    initial_state=HartreeFock(\n",
    "        num_spatial_orbitals,\n",
    "        num_electrons,\n",
    "        mapper,\n",
    "    ),\n",
    ")\n",
    "print(ansatz)"
   ]
  },
  {
   "cell_type": "markdown",
   "id": "0512c87d-8425-47ea-b8e4-95efaa4c11f4",
   "metadata": {},
   "source": [
    "In order to reduce complexity of ansatz, the mapping method is specified."
   ]
  },
  {
   "cell_type": "code",
   "execution_count": 40,
   "id": "f1eda53c-d7a2-47b2-9e05-a2af30987d93",
   "metadata": {},
   "outputs": [],
   "source": [
    "num_electrons = (3, 3)\n",
    "num_spatial_orbitals = 4"
   ]
  },
  {
   "cell_type": "code",
   "execution_count": 41,
   "id": "ddade384-85d0-43fb-89bb-01b9d2f0b63d",
   "metadata": {},
   "outputs": [],
   "source": [
    "transformer = ActiveSpaceTransformer(num_electrons, num_spatial_orbitals)\n",
    "problem = transformer.transform(problem)"
   ]
  },
  {
   "cell_type": "code",
   "execution_count": 42,
   "id": "b67f59a6-a099-4066-b768-345c7c9a1dd9",
   "metadata": {},
   "outputs": [],
   "source": [
    "hamiltonian = problem.hamiltonian.second_q_op()"
   ]
  },
  {
   "cell_type": "code",
   "execution_count": 43,
   "id": "885055aa-c0c1-4383-95b7-c9cce988ad85",
   "metadata": {},
   "outputs": [],
   "source": [
    "mapper = ParityMapper(num_particles=num_electrons)\n",
    "mapper = problem.get_tapered_mapper(mapper)"
   ]
  },
  {
   "cell_type": "code",
   "execution_count": 44,
   "id": "9e26202c-59aa-43c1-9901-4cda4e290967",
   "metadata": {},
   "outputs": [],
   "source": [
    "ansatz = UCCSD(\n",
    "    num_spatial_orbitals,\n",
    "    num_electrons,\n",
    "    mapper,\n",
    "    initial_state=HartreeFock(\n",
    "        num_spatial_orbitals,\n",
    "        num_electrons,\n",
    "        mapper,\n",
    "    ),\n",
    ")"
   ]
  },
  {
   "cell_type": "markdown",
   "id": "19878498-4d90-46d9-bf85-f49ff2261d67",
   "metadata": {},
   "source": [
    "As seen in the output, the ansatz of the problem is now reduced. This method also reduces the computation time."
   ]
  },
  {
   "cell_type": "code",
   "execution_count": 45,
   "id": "4e81b7d2-bf8c-43c0-9a16-04f907e0ae27",
   "metadata": {},
   "outputs": [
    {
     "name": "stdout",
     "output_type": "stream",
     "text": [
      "     ┌───────────────────────────────────────┐\n",
      "q_0: ┤0                                      ├\n",
      "     │                                       │\n",
      "q_1: ┤1                                      ├\n",
      "     │  EvolvedOps(t[0],t[1],t[2],t[3],t[4]) │\n",
      "q_2: ┤2                                      ├\n",
      "     │                                       │\n",
      "q_3: ┤3                                      ├\n",
      "     └───────────────────────────────────────┘\n"
     ]
    }
   ],
   "source": [
    "print(ansatz)"
   ]
  },
  {
   "cell_type": "markdown",
   "id": "56f59ca7-23b1-46e2-bfe3-e9cc9458b75d",
   "metadata": {},
   "source": [
    "In order to find minimum energy of the molecule the bond length should be determined. In order to achieve that, the distance between hydrogen and beryll atom is modified and the ground state energy calculated in every step."
   ]
  },
  {
   "cell_type": "code",
   "execution_count": 26,
   "id": "a5439c06-3ccf-45bf-9756-473293383278",
   "metadata": {},
   "outputs": [],
   "source": [
    "def my_solver(distances):\n",
    "    energies = []\n",
    "    computation_time = []\n",
    "    for distance in distances:\n",
    "        start_time = time.time()\n",
    "\n",
    "        # Define the molecule with the updated distance\n",
    "        molecule_config = \"molecule beh2 {\\n  0 1\\n  Be  0.0 0.0 0.0\\n  H  0.0 0.0 \" + str(\n",
    "            distance) + \"\\n  H  0.0 0.0 \" + str(-distance) + \"\\n}\\n\\nset {\\n  basis sto-3g\\n}\"\n",
    "\n",
    "        # Creating an instance of Psi4 Driver using Hydrogen molecule configuration\n",
    "        driver = Psi4Driver(config=molecule_config)\n",
    "\n",
    "        # Creating problem\n",
    "        problem = driver.run()\n",
    "\n",
    "        # Reducing problem complexity by using fewer orbitals\n",
    "        num_electrons = (3, 3)\n",
    "        num_spatial_orbitals = 4\n",
    "\n",
    "        # Transforming problem into a new one by using molecular properties\n",
    "        transformer = ActiveSpaceTransformer(num_electrons, num_spatial_orbitals)\n",
    "        problem = transformer.transform(problem)\n",
    "\n",
    "        # Creating hamiltonian by using second quantization operators\n",
    "        hamiltonian = problem.hamiltonian.second_q_op()\n",
    "\n",
    "        # Creating an instances of mapper\n",
    "        mapper = ParityMapper(num_particles=num_electrons)\n",
    "        mapper = problem.get_tapered_mapper(mapper)\n",
    "\n",
    "        # Creating ansatz\n",
    "        ansatz = UCCSD(\n",
    "            num_spatial_orbitals,\n",
    "            num_electrons,\n",
    "            mapper,\n",
    "            initial_state=HartreeFock(\n",
    "                num_spatial_orbitals,\n",
    "                num_electrons,\n",
    "                mapper,\n",
    "            ),\n",
    "        )\n",
    "\n",
    "        # Mapping second quantization operators into qubit operators\n",
    "        qubit_h = mapper.map(hamiltonian)\n",
    "\n",
    "        # Creating an instance of optimizer\n",
    "        optimizer = L_BFGS_B()\n",
    "\n",
    "        # Creating an instance of estimator which simulates quantum computer behaviour on local computer\n",
    "        estimator = Estimator()\n",
    "\n",
    "        # Set up the VQE algorithm\n",
    "        vqe = VQE(Estimator(), ansatz=ansatz, optimizer=optimizer)\n",
    "\n",
    "        # Computing ground state energy value\n",
    "        calc = GroundStateEigensolver(mapper, vqe)\n",
    "        result = calc.solve(problem)\n",
    "\n",
    "        # Append the result to the list\n",
    "        energies.append(result.total_energies[0])\n",
    "\n",
    "        end_time = time.time()\n",
    "\n",
    "        elapsed_time = end_time - start_time\n",
    "\n",
    "        computation_time.append(elapsed_time)\n",
    "\n",
    "    return energies, computation_time"
   ]
  },
  {
   "cell_type": "code",
   "execution_count": 27,
   "id": "3c6ca371-b7fe-4dba-9850-4ea869a3c351",
   "metadata": {},
   "outputs": [],
   "source": [
    "energies, computation_time = my_solver(distances)"
   ]
  },
  {
   "cell_type": "code",
   "execution_count": 28,
   "id": "2a8cc249-5a05-4ac5-8b98-4e68e44e911c",
   "metadata": {},
   "outputs": [
    {
     "name": "stdout",
     "output_type": "stream",
     "text": [
      "Elapsed Time: 9.477162755768875 seconds\n"
     ]
    }
   ],
   "source": [
    "mean_elapsed_time = np.mean(computation_time)\n",
    "print(f\"Elapsed Time: {mean_elapsed_time} seconds\")"
   ]
  },
  {
   "cell_type": "code",
   "execution_count": 29,
   "id": "c92c41f6-1572-47bf-a910-8bc84ffe167a",
   "metadata": {},
   "outputs": [
    {
     "data": {
      "image/png": "[encoded data removed]",
      "text/plain": [
       "<Figure size 640x480 with 1 Axes>"
      ]
     },
     "metadata": {},
     "output_type": "display_data"
    }
   ],
   "source": [
    "plt.plot(distances, energies, marker='o')\n",
    "plt.xlabel('Distance (Angstroms)')\n",
    "plt.ylabel('Ground State Energy (Hartree)')\n",
    "plt.title('BeH2 Molecule Energy vs. Distance')\n",
    "plt.show()"
   ]
  },
  {
   "cell_type": "code",
   "execution_count": null,
   "id": "567f26c9-5d40-40dc-ae7c-6984053a3f6b",
   "metadata": {},
   "outputs": [],
   "source": []
  }
 ],
 "metadata": {
  "kernelspec": {
   "display_name": "Python 3 (ipykernel)",
   "language": "python",
   "name": "python3"
  },
  "language_info": {
   "codemirror_mode": {
    "name": "ipython",
    "version": 3
   },
   "file_extension": ".py",
   "mimetype": "text/x-python",
   "name": "python",
   "nbconvert_exporter": "python",
   "pygments_lexer": "ipython3",
   "version": "3.11.7"
  }
 },
 "nbformat": 4,
 "nbformat_minor": 5
}
